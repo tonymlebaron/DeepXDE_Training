{
 "cells": [
  {
   "cell_type": "code",
   "execution_count": 1,
   "id": "vocational-division",
   "metadata": {},
   "outputs": [
    {
     "name": "stderr",
     "output_type": "stream",
     "text": [
      "Using backend: tensorflow.compat.v1\n",
      "\n"
     ]
    },
    {
     "name": "stdout",
     "output_type": "stream",
     "text": [
      "WARNING:tensorflow:From C:\\Users\\alebaron\\AppData\\Local\\Programs\\Python\\Python39\\lib\\site-packages\\tensorflow\\python\\compat\\v2_compat.py:107: disable_resource_variables (from tensorflow.python.ops.variable_scope) is deprecated and will be removed in a future version.\n",
      "Instructions for updating:\n",
      "non-resource variables are not supported in the long term\n",
      "WARNING:tensorflow:From C:\\Users\\alebaron\\AppData\\Local\\Programs\\Python\\Python39\\lib\\site-packages\\deepxde\\nn\\initializers.py:118: The name tf.keras.initializers.he_normal is deprecated. Please use tf.compat.v1.keras.initializers.he_normal instead.\n",
      "\n"
     ]
    }
   ],
   "source": [
    "### Import Packages ###\n",
    "import deepxde as dde\n",
    "import matplotlib.pyplot as plt\n",
    "import numpy as np\n",
    "from deepxde.backend import tf\n",
    "\n",
    "\n",
    "%matplotlib widget\n"
   ]
  },
  {
   "cell_type": "code",
   "execution_count": 9,
   "id": "2083ee64",
   "metadata": {},
   "outputs": [],
   "source": [
    "lab_data = np.genfromtxt(\"Lab_data.csv\",delimiter=',')\n",
    "lab_data = np.delete(lab_data,0,0)\n",
    "x_obs = lab_data[:,0]\n",
    "u_obs = lab_data[:,1]-92.0 #shift everything down by 92 degrees. Closer to 1 = Faster Learning\n",
    "\n",
    "x_obs_sub=x_obs[x_obs < 0] #Split the data set: _sub for x<0, _pcd for x>0\n",
    "u_obs_sub=u_obs[x_obs < 0]\n",
    "\n",
    "x_obs_pcd=x_obs[x_obs > 0]\n",
    "u_obs_pcd=u_obs[x_obs > 0]"
   ]
  },
  {
   "cell_type": "code",
   "execution_count": 22,
   "id": "0401006e",
   "metadata": {
    "scrolled": false
   },
   "outputs": [],
   "source": [
    "##########################################################\n",
    "### This block: Set up the model. Geometry, governing  ###\n",
    "### equation(s), BC's, training points                 ###\n",
    "##########################################################\n",
    "\n",
    "\n",
    "### Define geometry and material properties\n",
    "l_pcd=2.286 #Length of PCD\n",
    "l_sub=10.93 #Length of Substrate\n",
    "#temp_amb=20.0-92.0 #Ambient temperature (for convection)\n",
    "flux=dde.Variable(1.0) #The Flux--it's constant here\n",
    "#h=dde.Variable(1.0) #Convection coefficient to solve for\n",
    "k_pcd=dde.Variable(5.0)\n",
    "k_sub=1 #substrate conductivity\n",
    "T_base = -1 #Temperature at base of substrate\n",
    "T_top = 1 #Temperature at top of PCD table\n",
    "\n",
    "### Define Geometry ###\n",
    "geom_sub = dde.geometry.Interval(-l_sub,0)\n",
    "geom_pcd = dde.geometry.Interval(0,l_pcd)\n",
    "#geom = dde.geometry.Interval(-l_sub,l_pcd)\n",
    "\n",
    "################################################################\n",
    "### Governing Equation and Boundary Definition: Both Domains ###\n",
    "################################################################\n",
    "\n",
    "def pde(x,u): #This function can be used for both domains   \n",
    "    du_xx = dde.grad.hessian(u,x,i=0,j=0) #This equation is valid everywhere\n",
    "    return du_xx \n",
    "    \n",
    "### Define location of Interface at x=0: ###\n",
    "def interface(x, on_boundary):\n",
    "    return on_boundary and np.isclose(x[0],0)\n",
    "\n",
    "### Define location of Interface at x=+0\n",
    "# def boundary_r(x, on_boundary):\n",
    "#     return on_boundary and np.isclose(x[0],0)\n",
    "\n",
    "##################################\n",
    "### BC's and PDE for substrate ###\n",
    "##################################\n",
    "\n",
    "### Define function to return du/dx = -flux/k_sub @ x =-0\n",
    "def robin_sub_interface(x,y):\n",
    "    return -flux/k_sub\n",
    "\n",
    "### Define Robin BC on sub side of interface ###\n",
    "### This could be a Neumann BC, but Robin BC automatically takes\n",
    "### derivative normal to surface, which will be useful \n",
    "### in 2D cases down the road.\n",
    "\n",
    "bc_sub_0 = dde.icbc.RobinBC(geom_sub, robin_sub_interface, interface)\n",
    "\n",
    "### Define lab data as a PointSetBC\n",
    "observe_u_sub = dde.icbc.PointSetBC(np.array(x_obs_sub).reshape(len(x_obs_sub),1),np.array(u_obs_sub).reshape(len(u_obs_sub),1),component=0)\n",
    "\n",
    "### Then, the pde problem is: ###\n",
    "\n",
    "data_sub = dde.data.PDE(geom_sub, pde,[bc_sub_0,observe_u_sub] , 14, 1, num_test=32) #bc_r\n",
    "\n",
    "##################################\n",
    "### BC's and PDE for Diamond   ###\n",
    "##################################\n"
   ]
  },
  {
   "cell_type": "code",
   "execution_count": 23,
   "id": "d4e703f4",
   "metadata": {
    "scrolled": false
   },
   "outputs": [
    {
     "name": "stdout",
     "output_type": "stream",
     "text": [
      "Compiling model...\n",
      "Building feed-forward neural network...\n",
      "'build' took 0.175749 s\n",
      "\n"
     ]
    },
    {
     "name": "stderr",
     "output_type": "stream",
     "text": [
      "C:\\Users\\alebaron\\AppData\\Local\\Programs\\Python\\Python39\\lib\\site-packages\\deepxde\\nn\\tensorflow_compat_v1\\fnn.py:103: UserWarning: `tf.layers.dense` is deprecated and will be removed in a future version. Please use `tf.keras.layers.Dense` instead.\n",
      "  return tf.layers.dense(\n"
     ]
    },
    {
     "name": "stdout",
     "output_type": "stream",
     "text": [
      "Tensor(\"Less_7:0\", shape=(None, 1), dtype=bool)\n",
      "Tensor(\"Less_8:0\", shape=(None, 1), dtype=bool)\n",
      "'compile' took 1.525155 s\n",
      "\n",
      "Initializing variables...\n",
      "Training model...\n",
      "\n",
      "Step      Train loss                        Test loss                         Test metric\n",
      "0         [2.37e-02, nan, 1.28e-01]         [8.52e-02, nan, 1.28e-01]         []  \n",
      "\n",
      "Best model at step 0:\n",
      "  train loss: inf\n",
      "  test loss: inf\n",
      "  test metric: \n",
      "\n",
      "'train' took 1.387725 s\n",
      "\n"
     ]
    },
    {
     "ename": "ValueError",
     "evalue": "x, y, and format string must not be None",
     "output_type": "error",
     "traceback": [
      "\u001b[1;31m---------------------------------------------------------------------------\u001b[0m",
      "\u001b[1;31mValueError\u001b[0m                                Traceback (most recent call last)",
      "\u001b[1;32m~\\AppData\\Local\\Temp/ipykernel_11076/772471196.py\u001b[0m in \u001b[0;36m<module>\u001b[1;34m\u001b[0m\n\u001b[0;32m     41\u001b[0m \u001b[0mplt\u001b[0m\u001b[1;33m.\u001b[0m\u001b[0mfigure\u001b[0m\u001b[1;33m(\u001b[0m\u001b[1;33m)\u001b[0m\u001b[1;33m\u001b[0m\u001b[1;33m\u001b[0m\u001b[0m\n\u001b[0;32m     42\u001b[0m \u001b[0mplt\u001b[0m\u001b[1;33m.\u001b[0m\u001b[0mtitle\u001b[0m\u001b[1;33m(\u001b[0m\u001b[1;34m'Test Data'\u001b[0m\u001b[1;33m)\u001b[0m\u001b[1;33m\u001b[0m\u001b[1;33m\u001b[0m\u001b[0m\n\u001b[1;32m---> 43\u001b[1;33m \u001b[0mplt\u001b[0m\u001b[1;33m.\u001b[0m\u001b[0mplot\u001b[0m\u001b[1;33m(\u001b[0m\u001b[0mtrain_state\u001b[0m\u001b[1;33m.\u001b[0m\u001b[0mX_test\u001b[0m\u001b[1;33m,\u001b[0m\u001b[0mtrain_state\u001b[0m\u001b[1;33m.\u001b[0m\u001b[0mbest_y\u001b[0m\u001b[1;33m,\u001b[0m\u001b[1;34m'.'\u001b[0m\u001b[1;33m)\u001b[0m\u001b[1;33m\u001b[0m\u001b[1;33m\u001b[0m\u001b[0m\n\u001b[0m\u001b[0;32m     44\u001b[0m \u001b[0mplt\u001b[0m\u001b[1;33m.\u001b[0m\u001b[0mplot\u001b[0m\u001b[1;33m(\u001b[0m\u001b[0mx_obs_sub\u001b[0m\u001b[1;33m,\u001b[0m\u001b[0mu_obs_sub\u001b[0m\u001b[1;33m,\u001b[0m\u001b[1;34m'o'\u001b[0m\u001b[1;33m)\u001b[0m\u001b[1;33m\u001b[0m\u001b[1;33m\u001b[0m\u001b[0m\n\u001b[0;32m     45\u001b[0m \u001b[0mplt\u001b[0m\u001b[1;33m.\u001b[0m\u001b[0mlegend\u001b[0m\u001b[1;33m(\u001b[0m\u001b[1;33m[\u001b[0m\u001b[1;34m'best_y'\u001b[0m\u001b[1;33m,\u001b[0m\u001b[1;34m'lab data'\u001b[0m\u001b[1;33m]\u001b[0m\u001b[1;33m)\u001b[0m\u001b[1;33m\u001b[0m\u001b[1;33m\u001b[0m\u001b[0m\n",
      "\u001b[1;32m~\\AppData\\Local\\Programs\\Python\\Python39\\lib\\site-packages\\matplotlib\\pyplot.py\u001b[0m in \u001b[0;36mplot\u001b[1;34m(scalex, scaley, data, *args, **kwargs)\u001b[0m\n\u001b[0;32m   3017\u001b[0m \u001b[1;33m@\u001b[0m\u001b[0m_copy_docstring_and_deprecators\u001b[0m\u001b[1;33m(\u001b[0m\u001b[0mAxes\u001b[0m\u001b[1;33m.\u001b[0m\u001b[0mplot\u001b[0m\u001b[1;33m)\u001b[0m\u001b[1;33m\u001b[0m\u001b[1;33m\u001b[0m\u001b[0m\n\u001b[0;32m   3018\u001b[0m \u001b[1;32mdef\u001b[0m \u001b[0mplot\u001b[0m\u001b[1;33m(\u001b[0m\u001b[1;33m*\u001b[0m\u001b[0margs\u001b[0m\u001b[1;33m,\u001b[0m \u001b[0mscalex\u001b[0m\u001b[1;33m=\u001b[0m\u001b[1;32mTrue\u001b[0m\u001b[1;33m,\u001b[0m \u001b[0mscaley\u001b[0m\u001b[1;33m=\u001b[0m\u001b[1;32mTrue\u001b[0m\u001b[1;33m,\u001b[0m \u001b[0mdata\u001b[0m\u001b[1;33m=\u001b[0m\u001b[1;32mNone\u001b[0m\u001b[1;33m,\u001b[0m \u001b[1;33m**\u001b[0m\u001b[0mkwargs\u001b[0m\u001b[1;33m)\u001b[0m\u001b[1;33m:\u001b[0m\u001b[1;33m\u001b[0m\u001b[1;33m\u001b[0m\u001b[0m\n\u001b[1;32m-> 3019\u001b[1;33m     return gca().plot(\n\u001b[0m\u001b[0;32m   3020\u001b[0m         \u001b[1;33m*\u001b[0m\u001b[0margs\u001b[0m\u001b[1;33m,\u001b[0m \u001b[0mscalex\u001b[0m\u001b[1;33m=\u001b[0m\u001b[0mscalex\u001b[0m\u001b[1;33m,\u001b[0m \u001b[0mscaley\u001b[0m\u001b[1;33m=\u001b[0m\u001b[0mscaley\u001b[0m\u001b[1;33m,\u001b[0m\u001b[1;33m\u001b[0m\u001b[1;33m\u001b[0m\u001b[0m\n\u001b[0;32m   3021\u001b[0m         **({\"data\": data} if data is not None else {}), **kwargs)\n",
      "\u001b[1;32m~\\AppData\\Local\\Programs\\Python\\Python39\\lib\\site-packages\\matplotlib\\axes\\_axes.py\u001b[0m in \u001b[0;36mplot\u001b[1;34m(self, scalex, scaley, data, *args, **kwargs)\u001b[0m\n\u001b[0;32m   1603\u001b[0m         \"\"\"\n\u001b[0;32m   1604\u001b[0m         \u001b[0mkwargs\u001b[0m \u001b[1;33m=\u001b[0m \u001b[0mcbook\u001b[0m\u001b[1;33m.\u001b[0m\u001b[0mnormalize_kwargs\u001b[0m\u001b[1;33m(\u001b[0m\u001b[0mkwargs\u001b[0m\u001b[1;33m,\u001b[0m \u001b[0mmlines\u001b[0m\u001b[1;33m.\u001b[0m\u001b[0mLine2D\u001b[0m\u001b[1;33m)\u001b[0m\u001b[1;33m\u001b[0m\u001b[1;33m\u001b[0m\u001b[0m\n\u001b[1;32m-> 1605\u001b[1;33m         \u001b[0mlines\u001b[0m \u001b[1;33m=\u001b[0m \u001b[1;33m[\u001b[0m\u001b[1;33m*\u001b[0m\u001b[0mself\u001b[0m\u001b[1;33m.\u001b[0m\u001b[0m_get_lines\u001b[0m\u001b[1;33m(\u001b[0m\u001b[1;33m*\u001b[0m\u001b[0margs\u001b[0m\u001b[1;33m,\u001b[0m \u001b[0mdata\u001b[0m\u001b[1;33m=\u001b[0m\u001b[0mdata\u001b[0m\u001b[1;33m,\u001b[0m \u001b[1;33m**\u001b[0m\u001b[0mkwargs\u001b[0m\u001b[1;33m)\u001b[0m\u001b[1;33m]\u001b[0m\u001b[1;33m\u001b[0m\u001b[1;33m\u001b[0m\u001b[0m\n\u001b[0m\u001b[0;32m   1606\u001b[0m         \u001b[1;32mfor\u001b[0m \u001b[0mline\u001b[0m \u001b[1;32min\u001b[0m \u001b[0mlines\u001b[0m\u001b[1;33m:\u001b[0m\u001b[1;33m\u001b[0m\u001b[1;33m\u001b[0m\u001b[0m\n\u001b[0;32m   1607\u001b[0m             \u001b[0mself\u001b[0m\u001b[1;33m.\u001b[0m\u001b[0madd_line\u001b[0m\u001b[1;33m(\u001b[0m\u001b[0mline\u001b[0m\u001b[1;33m)\u001b[0m\u001b[1;33m\u001b[0m\u001b[1;33m\u001b[0m\u001b[0m\n",
      "\u001b[1;32m~\\AppData\\Local\\Programs\\Python\\Python39\\lib\\site-packages\\matplotlib\\axes\\_base.py\u001b[0m in \u001b[0;36m__call__\u001b[1;34m(self, data, *args, **kwargs)\u001b[0m\n\u001b[0;32m    313\u001b[0m                 \u001b[0mthis\u001b[0m \u001b[1;33m+=\u001b[0m \u001b[0margs\u001b[0m\u001b[1;33m[\u001b[0m\u001b[1;36m0\u001b[0m\u001b[1;33m]\u001b[0m\u001b[1;33m,\u001b[0m\u001b[1;33m\u001b[0m\u001b[1;33m\u001b[0m\u001b[0m\n\u001b[0;32m    314\u001b[0m                 \u001b[0margs\u001b[0m \u001b[1;33m=\u001b[0m \u001b[0margs\u001b[0m\u001b[1;33m[\u001b[0m\u001b[1;36m1\u001b[0m\u001b[1;33m:\u001b[0m\u001b[1;33m]\u001b[0m\u001b[1;33m\u001b[0m\u001b[1;33m\u001b[0m\u001b[0m\n\u001b[1;32m--> 315\u001b[1;33m             \u001b[1;32myield\u001b[0m \u001b[1;32mfrom\u001b[0m \u001b[0mself\u001b[0m\u001b[1;33m.\u001b[0m\u001b[0m_plot_args\u001b[0m\u001b[1;33m(\u001b[0m\u001b[0mthis\u001b[0m\u001b[1;33m,\u001b[0m \u001b[0mkwargs\u001b[0m\u001b[1;33m)\u001b[0m\u001b[1;33m\u001b[0m\u001b[1;33m\u001b[0m\u001b[0m\n\u001b[0m\u001b[0;32m    316\u001b[0m \u001b[1;33m\u001b[0m\u001b[0m\n\u001b[0;32m    317\u001b[0m     \u001b[1;32mdef\u001b[0m \u001b[0mget_next_color\u001b[0m\u001b[1;33m(\u001b[0m\u001b[0mself\u001b[0m\u001b[1;33m)\u001b[0m\u001b[1;33m:\u001b[0m\u001b[1;33m\u001b[0m\u001b[1;33m\u001b[0m\u001b[0m\n",
      "\u001b[1;32m~\\AppData\\Local\\Programs\\Python\\Python39\\lib\\site-packages\\matplotlib\\axes\\_base.py\u001b[0m in \u001b[0;36m_plot_args\u001b[1;34m(self, tup, kwargs, return_kwargs)\u001b[0m\n\u001b[0;32m    460\u001b[0m         \u001b[1;31m# element array of None which causes problems downstream.\u001b[0m\u001b[1;33m\u001b[0m\u001b[1;33m\u001b[0m\u001b[1;33m\u001b[0m\u001b[0m\n\u001b[0;32m    461\u001b[0m         \u001b[1;32mif\u001b[0m \u001b[0many\u001b[0m\u001b[1;33m(\u001b[0m\u001b[0mv\u001b[0m \u001b[1;32mis\u001b[0m \u001b[1;32mNone\u001b[0m \u001b[1;32mfor\u001b[0m \u001b[0mv\u001b[0m \u001b[1;32min\u001b[0m \u001b[0mtup\u001b[0m\u001b[1;33m)\u001b[0m\u001b[1;33m:\u001b[0m\u001b[1;33m\u001b[0m\u001b[1;33m\u001b[0m\u001b[0m\n\u001b[1;32m--> 462\u001b[1;33m             \u001b[1;32mraise\u001b[0m \u001b[0mValueError\u001b[0m\u001b[1;33m(\u001b[0m\u001b[1;34m\"x, y, and format string must not be None\"\u001b[0m\u001b[1;33m)\u001b[0m\u001b[1;33m\u001b[0m\u001b[1;33m\u001b[0m\u001b[0m\n\u001b[0m\u001b[0;32m    463\u001b[0m \u001b[1;33m\u001b[0m\u001b[0m\n\u001b[0;32m    464\u001b[0m         \u001b[0mkw\u001b[0m \u001b[1;33m=\u001b[0m \u001b[1;33m{\u001b[0m\u001b[1;33m}\u001b[0m\u001b[1;33m\u001b[0m\u001b[1;33m\u001b[0m\u001b[0m\n",
      "\u001b[1;31mValueError\u001b[0m: x, y, and format string must not be None"
     ]
    },
    {
     "data": {
      "application/vnd.jupyter.widget-view+json": {
       "model_id": "404ad318f21e49c2a0d51f084101890e",
       "version_major": 2,
       "version_minor": 0
      },
      "text/html": [
       "\n",
       "            <div style=\"display: inline-block;\">\n",
       "                <div class=\"jupyter-widgets widget-label\" style=\"text-align: center;\">\n",
       "                    Figure\n",
       "                </div>\n",
       "                <img src='data:image/png;base64,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' width=640.0/>\n",
       "            </div>\n",
       "        "
      ],
      "text/plain": [
       "Canvas(toolbar=Toolbar(toolitems=[('Home', 'Reset original view', 'home', 'home'), ('Back', 'Back to previous …"
      ]
     },
     "metadata": {},
     "output_type": "display_data"
    },
    {
     "data": {
      "application/vnd.jupyter.widget-view+json": {
       "model_id": "5cb3ceadea6341aca873f5cea0685c26",
       "version_major": 2,
       "version_minor": 0
      },
      "text/html": [
       "\n",
       "            <div style=\"display: inline-block;\">\n",
       "                <div class=\"jupyter-widgets widget-label\" style=\"text-align: center;\">\n",
       "                    Figure\n",
       "                </div>\n",
       "                <img src='data:image/png;base64,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' width=640.0/>\n",
       "            </div>\n",
       "        "
      ],
      "text/plain": [
       "Canvas(toolbar=Toolbar(toolitems=[('Home', 'Reset original view', 'home', 'home'), ('Back', 'Back to previous …"
      ]
     },
     "metadata": {},
     "output_type": "display_data"
    }
   ],
   "source": [
    "#######################################\n",
    "### This block builds the model and ###\n",
    "### trains the neural network       ###\n",
    "#######################################\n",
    "hidden_layer_size=20\n",
    "num_hidden_layers=10\n",
    "activation='tanh'\n",
    "learning_rate=0.001\n",
    "num_epochs=10000\n",
    "\n",
    "### Build Model ###\n",
    "layer_size = [1] + [hidden_layer_size] * num_hidden_layers + [1] #First layer is [1] for 1d problem, [2] for 2d problem, etc\n",
    "initializer = \"Glorot uniform\"\n",
    "net = dde.nn.FNN(layer_size, activation, initializer)\n",
    "\n",
    "#### These lines apply hard boundary condition \n",
    "# def  output_transform(x, y):\n",
    "#     return (1 - x) * y + 100\n",
    "\n",
    "# net.apply_output_transform(output_transform) #The network output is transformed so that u(1)=100 always. The transform\n",
    "# is non-physical, arbitrary, but it doesn't matter because the PINN will calculate error on the TRANSFORMED output to \n",
    "# match the governing equations and Robin (Convection) bc\n",
    "\n",
    "model = dde.Model(data_sub, net)\n",
    "\n",
    "### Compile Model ###\n",
    "model.compile(\"adam\", lr=learning_rate,loss_weights=[3,1,1])\n",
    "variable_flux = dde.callbacks.VariableValue(flux, period=200, filename=\"variable_flux.dat\")\n",
    "variable_kpcd = dde.callbacks.VariableValue(k_pcd, period=200, filename=\"variable_kpcd.dat\")\n",
    "\n",
    "### Train Model ###\n",
    "losshistory, train_state = model.train(epochs=num_epochs, callbacks=[variable_flux, variable_kpcd]) \n",
    "\n",
    "### Plot and save output ###\n",
    "dde.saveplot(losshistory, train_state, issave=False, isplot=False)\n",
    "\n",
    "plt.figure()\n",
    "plt.title('Training Data')\n",
    "plt.plot(train_state.X_train,train_state.y_pred_train,'.')\n",
    "plt.plot(x_obs_sub,u_obs_sub,'o')\n",
    "plt.figure()\n",
    "plt.title('Test Data')\n",
    "plt.plot(train_state.X_test,train_state.best_y,'.')\n",
    "plt.plot(x_obs_sub,u_obs_sub,'o')\n",
    "plt.legend(['best_y','lab data'])"
   ]
  },
  {
   "cell_type": "code",
   "execution_count": 19,
   "id": "ebe25136",
   "metadata": {},
   "outputs": [
    {
     "name": "stdout",
     "output_type": "stream",
     "text": [
      "[0.91497993]\n",
      "[5.0]\n"
     ]
    }
   ],
   "source": [
    "# plt.figure()\n",
    "# plt.title('Training Data')\n",
    "# plt.plot(train_state.X_train,train_state.y_pred_train,'.')\n",
    "# plt.plot(x_obs,u_obs,'o')\n",
    "# plt.figure()\n",
    "# plt.title('Test Data')\n",
    "# plt.plot(train_state.X_test,train_state.best_y,'.')\n",
    "# plt.plot(x_obs,u_obs,'o')\n",
    "# plt.legend(['best_y','lab data'])\n",
    "\n",
    "print(variable_flux.value)\n",
    "print(variable_kpcd.value)"
   ]
  },
  {
   "cell_type": "code",
   "execution_count": 6,
   "id": "6ee001f6",
   "metadata": {
    "scrolled": false
   },
   "outputs": [
    {
     "data": {
      "text/plain": [
       "'\\nhidden_layer_sizes=[20]\\nnums_hidden_layers=[10]\\nactivation=\\'tanh\\'\\nlearning_rate=0.001\\nnum_epochs=10000\\n\\nfor hidden_layer_size in hidden_layer_sizes:\\n    for num_hidden_layers in nums_hidden_layers:\\n        ### Build Model ###\\n        layer_size = [1] + [hidden_layer_size] * num_hidden_layers + [1] #First layer is [1] for 1d problem, [2] for 2d problem, etc\\n        initializer = \"Glorot uniform\"\\n        net = dde.nn.FNN(layer_size, activation, initializer)\\n\\n        #### These lines apply hard boundary condition \\n        def  output_transform(x, y):\\n            return (1 - x) * y + 100\\n\\n        net.apply_output_transform(output_transform) #The network output is transformed so that u(1)=100 always. The transform\\n        # is non-physical, arbitrary, but it doesn\\'t matter because the PINN will calculate error on the TRANSFORMED output to \\n        # match the governing equations and Robin (Convection) bc. This is weird but I see why it works.\\n\\n        model = dde.Model(data, net)\\n\\n        ### Compile Model ###\\n        model.compile(\"adam\", lr=learning_rate)\\n\\n        ### Train Model ###\\n        losshistory, train_state = model.train(epochs=num_epochs) #losshistory, train_state = \\n        \\n        ### Plot and save output ###\\n        fileprefix=str(\\'HLSIZE\\'+str(hidden_layer_size)+\\'NHL\\'+str(num_hidden_layers)+\\'ACT\\'+activation+\\'LR\\'+str(learning_rate))\\n        dde.saveplot(losshistory, train_state, issave=True, isplot=True,\\n                     loss_fname=fileprefix+\\'loss.dat\\',\\n                     train_fname=fileprefix+\\'train.dat\\',\\n                     test_fname=fileprefix+\\'test.dat\\')\\n        \\n        #Training Time\\n        #Iteration of best state\\n        #x_test, y hat at best state\\n        #Train Loss @ best state\\n        #Test Loss @ best state\\n\\n# plt.figure()\\n# plt.plot(train_state.X_train,train_state.y_pred_train,\\'.\\')\\n# plt.plot(train_state.X_test,train_state.best_y,\\'.\\')\\n# plt.legend([\\'Y_pred_train\\',\\'best_y\\'])\\n'"
      ]
     },
     "execution_count": 6,
     "metadata": {},
     "output_type": "execute_result"
    }
   ],
   "source": [
    "#### Building and Training, but in a for loop! Neato. ####\n",
    "'''\n",
    "hidden_layer_sizes=[20]\n",
    "nums_hidden_layers=[10]\n",
    "activation='tanh'\n",
    "learning_rate=0.001\n",
    "num_epochs=10000\n",
    "\n",
    "for hidden_layer_size in hidden_layer_sizes:\n",
    "    for num_hidden_layers in nums_hidden_layers:\n",
    "        ### Build Model ###\n",
    "        layer_size = [1] + [hidden_layer_size] * num_hidden_layers + [1] #First layer is [1] for 1d problem, [2] for 2d problem, etc\n",
    "        initializer = \"Glorot uniform\"\n",
    "        net = dde.nn.FNN(layer_size, activation, initializer)\n",
    "\n",
    "        #### These lines apply hard boundary condition \n",
    "        def  output_transform(x, y):\n",
    "            return (1 - x) * y + 100\n",
    "\n",
    "        net.apply_output_transform(output_transform) #The network output is transformed so that u(1)=100 always. The transform\n",
    "        # is non-physical, arbitrary, but it doesn't matter because the PINN will calculate error on the TRANSFORMED output to \n",
    "        # match the governing equations and Robin (Convection) bc. This is weird but I see why it works.\n",
    "\n",
    "        model = dde.Model(data, net)\n",
    "\n",
    "        ### Compile Model ###\n",
    "        model.compile(\"adam\", lr=learning_rate)\n",
    "\n",
    "        ### Train Model ###\n",
    "        losshistory, train_state = model.train(epochs=num_epochs) #losshistory, train_state = \n",
    "        \n",
    "        ### Plot and save output ###\n",
    "        fileprefix=str('HLSIZE'+str(hidden_layer_size)+'NHL'+str(num_hidden_layers)+'ACT'+activation+'LR'+str(learning_rate))\n",
    "        dde.saveplot(losshistory, train_state, issave=True, isplot=True,\n",
    "                     loss_fname=fileprefix+'loss.dat',\n",
    "                     train_fname=fileprefix+'train.dat',\n",
    "                     test_fname=fileprefix+'test.dat')\n",
    "        \n",
    "        #Training Time\n",
    "        #Iteration of best state\n",
    "        #x_test, y hat at best state\n",
    "        #Train Loss @ best state\n",
    "        #Test Loss @ best state\n",
    "\n",
    "# plt.figure()\n",
    "# plt.plot(train_state.X_train,train_state.y_pred_train,'.')\n",
    "# plt.plot(train_state.X_test,train_state.best_y,'.')\n",
    "# plt.legend(['Y_pred_train','best_y'])\n",
    "'''"
   ]
  },
  {
   "cell_type": "code",
   "execution_count": null,
   "id": "ba1d8951",
   "metadata": {},
   "outputs": [],
   "source": []
  }
 ],
 "metadata": {
  "kernelspec": {
   "display_name": "Python 3 (ipykernel)",
   "language": "python",
   "name": "python3"
  },
  "language_info": {
   "codemirror_mode": {
    "name": "ipython",
    "version": 3
   },
   "file_extension": ".py",
   "mimetype": "text/x-python",
   "name": "python",
   "nbconvert_exporter": "python",
   "pygments_lexer": "ipython3",
   "version": "3.9.1"
  }
 },
 "nbformat": 4,
 "nbformat_minor": 5
}
